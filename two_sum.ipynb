{
 "cells": [
  {
   "cell_type": "markdown",
   "metadata": {},
   "source": [
    "## Implementing two_sum"
   ]
  },
  {
   "cell_type": "markdown",
   "metadata": {},
   "source": [
    "__Implement\tthe\tfunction def two_sum(srt_lst, target). This\tfunction is\tgiven:__\n",
    "\n",
    "• __srt_lst__ - a list of integers arranged\tin a sorted order $\\newline$\n",
    "• __target__ - an integer\n",
    "\n",
    "__When called, it returns two indices (collected in\ta tuple), such that\tthe\telements in\ttheir positions\tadd\tup to target. If there are no such indices,\tthe\tfunction should\treturn None.__\n",
    "\n",
    "e.g. If __srt_lst__ = [-2, 7, 11, 15, 20, 21],\tand\t__target__ = 22, your function would return\t(1,\t3) because \n",
    "__srt_lst__[1] + __srt_lst__[3] = 7 + 15 = 22."
   ]
  },
  {
   "cell_type": "markdown",
   "metadata": {},
   "source": []
  },
  {
   "cell_type": "code",
   "execution_count": null,
   "metadata": {},
   "outputs": [],
   "source": []
  }
 ],
 "metadata": {
  "kernelspec": {
   "display_name": "Python 3",
   "language": "python",
   "name": "python3"
  },
  "language_info": {
   "codemirror_mode": {
    "name": "ipython",
    "version": 3
   },
   "file_extension": ".py",
   "mimetype": "text/x-python",
   "name": "python",
   "nbconvert_exporter": "python",
   "pygments_lexer": "ipython3",
   "version": "3.8.5"
  }
 },
 "nbformat": 4,
 "nbformat_minor": 4
}
