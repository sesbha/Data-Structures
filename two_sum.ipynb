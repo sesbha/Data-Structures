{
 "cells": [
  {
   "cell_type": "markdown",
   "metadata": {},
   "source": [
    "## Implementing two_sum"
   ]
  },
  {
   "cell_type": "markdown",
   "metadata": {},
   "source": [
    "__Implement the function def two_sum(srt_lst, target). This function is given:__\n",
    "\n",
    "• __srt_lst__ - a list of integers arranged\tin a sorted order $\\newline$\n",
    "• __target__ - an integer\n",
    "\n",
    "__When called, it returns two indices (collected in\ta tuple), such that\tthe\telements in\ttheir positions\tadd\tup to target. If there are no such indices,\tthe\tfunction should\treturn None.__\n",
    "\n",
    "e.g. If __srt_lst__ = [-2, 7, 11, 15, 20, 21],\tand\t__target__ = 22, your function would return\t(1,\t3) because \n",
    "__srt_lst__[1] + __srt_lst__[3] = 7 + 15 = 22."
   ]
  },
  {
   "cell_type": "markdown",
   "metadata": {},
   "source": [
    "To solve this problem, we can create two pointers, left and right, pointing to the beginning and the end of the list, respectively. We initialize left to the first index of the list, 0, and initialize right to len(__srt_lst__) - 1. Since the given list is sorted, we can iterate through the list using a while loop so long as the right index is larger than the left index and check whether the values of these indices add up to target. We create a variable __total__, the sum of the values pointed to by __left__ and __right__, and check whether their sum is equal to __target__. If __total__ is greater than __target__, we decrement __right__ to point to a smaller value and similarly, if __total__ is less than __target__, we increment __left__ to point to a larger value. If nothing is returned after the while loop is finished running, then there are no such indices whose values sum to __target__, so we return None. "
   ]
  },
  {
   "cell_type": "code",
   "execution_count": 1,
   "metadata": {},
   "outputs": [
    {
     "name": "stdout",
     "output_type": "stream",
     "text": [
      "(1, 3)\n",
      "None\n"
     ]
    }
   ],
   "source": [
    "def two_sum(srt_lst, target):\n",
    "    left = 0\n",
    "    right = len(srt_lst) - 1\n",
    "    while right > left:\n",
    "        total = srt_lst[right] + srt_lst[left]\n",
    "        if total == target:\n",
    "            return (left, right)\n",
    "        elif total > target:\n",
    "            right -= 1\n",
    "        else:\n",
    "            left += 1\n",
    "    return None\n",
    "\n",
    "# TEST CODE\n",
    "srt_lst = [-2, 7, 11, 15, 20, 21]\n",
    "# example 1\n",
    "target1 = 22\n",
    "print(two_sum(srt_lst, target1))\n",
    "# example 2\n",
    "target2 = 0\n",
    "print(two_sum(srt_lst, target2))"
   ]
  }
 ],
 "metadata": {
  "kernelspec": {
   "display_name": "Python 3",
   "language": "python",
   "name": "python3"
  },
  "language_info": {
   "codemirror_mode": {
    "name": "ipython",
    "version": 3
   },
   "file_extension": ".py",
   "mimetype": "text/x-python",
   "name": "python",
   "nbconvert_exporter": "python",
   "pygments_lexer": "ipython3",
   "version": "3.8.5"
  }
 },
 "nbformat": 4,
 "nbformat_minor": 4
}
