{
 "cells": [
  {
   "cell_type": "markdown",
   "metadata": {},
   "source": [
    "### Fibonacci Generator Function"
   ]
  },
  {
   "cell_type": "markdown",
   "metadata": {},
   "source": [
    "__Problem__: The Fibonacci Numbers Sequence, $F_{n}$, is defined as follows: $F_{0}$ is 1,\t$F_{1}$ is 1, and $F_{n}$ = $F_{n-1}$ + $F_{n-2}$ for n = 2, 3, 4, ... In\tother words, each number is\tthe\tsum\tof the previous\ttwo\tnumbers. The first 10 numbers in Fibonacci sequence\tare: 1,\t1, 2, 3, 5, 8, 13, 21, 34, 55. More background of the Fibonacci sequence can be found here: https://en.wikipedia.org/wiki/Fibonacci_number.\n",
    "\n",
    "__Implement a\tfunction def fibs(n). This function\tis given a positive integer\tn, and returns a generator,\tthat when iterated over, it\twill have the first\tn elements in the Fibonacci\tsequence.__"
   ]
  },
  {
   "cell_type": "markdown",
   "metadata": {},
   "source": [
    "A generator in Python, is an iterator that allows to break the execution of the code. Generators perform lazy evaluation by producing an iterable sequence and exposing elements only when they are needed. In this way, generators avoid storing all the elements at once in the memory. When a \"yield\" is reached in the code, the execution of the code is put on pause, and a snapshot of the active data frame as well as the position of where execution should resume in the code is stored. Then, when the next(iterator) is called, the execution resumes.     "
   ]
  },
  {
   "cell_type": "markdown",
   "metadata": {},
   "source": [
    "To solve this problem by returning a generator, we must use yield. We will also assign two variables, a and b, with the initial conditions $F_{0}$=1 and $F_{1}$=1, respectively. Since the Fibonacci sequence works by summing the previous two numbers, we will use double variable assignment to update the variables and save the value of the previous number as well as the next element. Using a while loop and a counter variable, we will yield the values of the Fibonacci sequence as follows:"
   ]
  },
  {
   "cell_type": "code",
   "execution_count": 1,
   "metadata": {},
   "outputs": [
    {
     "name": "stdout",
     "output_type": "stream",
     "text": [
      "1 1 2 3 5 8 13 21 "
     ]
    }
   ],
   "source": [
    "def fibs(n):\n",
    "    count = 0 \n",
    "    a, b = 1, 1 #define first two elements of sequence \n",
    "    while count < n: \n",
    "        yield a\n",
    "        a, b = b, a + b #update the variables - a becomes b and b becomes the next element in the sequence\n",
    "        count += 1\n",
    "        \n",
    "for curr in fibs(8): \n",
    "    print(curr, end = ' ')"
   ]
  },
  {
   "cell_type": "markdown",
   "metadata": {},
   "source": [
    "As you can see, the first 8 elements of the Fibonacci sequence are printed as a result of calling fibs(8) and iterating through the generator values. Using a generator and yielding values instead of appending the elements to a list is a much more space and memory conscious method. Although the time complexity of both methods would be linear or O(n), the space complexity of the generator method would be constant, O(1), rather than linear."
   ]
  }
 ],
 "metadata": {
  "kernelspec": {
   "display_name": "Python 3",
   "language": "python",
   "name": "python3"
  },
  "language_info": {
   "codemirror_mode": {
    "name": "ipython",
    "version": 3
   },
   "file_extension": ".py",
   "mimetype": "text/x-python",
   "name": "python",
   "nbconvert_exporter": "python",
   "pygments_lexer": "ipython3",
   "version": "3.7.4"
  }
 },
 "nbformat": 4,
 "nbformat_minor": 2
}
