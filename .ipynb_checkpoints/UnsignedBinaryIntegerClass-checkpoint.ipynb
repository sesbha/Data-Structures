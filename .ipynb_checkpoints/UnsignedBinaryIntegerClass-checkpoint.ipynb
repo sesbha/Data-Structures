{
 "cells": [
  {
   "cell_type": "markdown",
   "metadata": {},
   "source": [
    "### Creating an UnsignedBinaryInteger Class"
   ]
  },
  {
   "cell_type": "markdown",
   "metadata": {},
   "source": [
    "__Problem: Implement the UnsignedBinaryInteger class to represent non-negative integers by their binary (base 2) representation. Each object will have a data-member of type string, containing the binary representation of the number.__\n",
    "\n",
    "ex) The UnsignedBinaryInteger object representing the decimal-number 13, will have '1101', as its string data-member. Assume that the bin_num_str passed in the constructor does not have excess leading ‘0’ in the front and will always begin with a ‘1’ for positive numbers, and a single ‘0’ for 0\n",
    "\n",
    "__The class should include the following:__"
   ]
  },
  {
   "cell_type": "code",
   "execution_count": 1,
   "metadata": {},
   "outputs": [],
   "source": [
    "import math\n",
    "class UnsignedBinaryInteger:\n",
    "    def __init__(self, bin_num_str):\n",
    "        self.data = bin_num_str\n",
    "    def decimal(self):\n",
    "        ''' returns the decimal value of the binary integer'''\n",
    "    def __add__(self, other):\n",
    "        ''' Creates and returns an UnsignedBinaryInteger object\n",
    "        that represent the sum of self and other (also of\n",
    "        type UnsignedBinaryInteger) the result also shouldn’t have\n",
    "        excess leading 0’s'''\n",
    "    def __lt__(self, other):\n",
    "        ''' returns True if self is less than other, or False\n",
    "        otherwise'''\n",
    "    def __gt__(self, other):\n",
    "        ''' returns True if self is greater than other, or False\n",
    "        otherwise'''\n",
    "    def __eq__(self, other):\n",
    "        ''' returns True if self is equal to other, or False\n",
    "        otherwise'''\n",
    "    def is_twos_power(self):\n",
    "        ''' returns True if self is a power of 2, or False\n",
    "        otherwise'''\n",
    "    def largest_twos_power(self):\n",
    "        ''' returns the largest power of 2 that is less than or\n",
    "        equal to self'''\n",
    "    def __repr__(self):\n",
    "        ''' Creates and returns the string representation\n",
    "        of self. The string representation starts with 0b,\n",
    "        followed by a sequence of 0s and 1s'''"
   ]
  },
  {
   "cell_type": "markdown",
   "metadata": {},
   "source": [
    "First, we will write the code for the decimal method, to compute the decimal value of an UnsignedBinaryInteger object, which can then be used in the \\__add\\__ method. \n",
    "\n",
    "We want to check each digit of self.data by iterating from index 0 to len(self.data) - 1 (left to right) using a local variable ind, initialized to 0. However, since binary numbers read from right to left in terms of lowest to highest powers of 2 ($2^{0}$ starts from the right most digit), to read from left to right our for loop variable, i, should begin at the highest index of len(self.data) - 1, where self.data is the binary string, and end with index 0. If the digit of self.data is a '1', we will add 2 to the power of i to the variable num. We increment ind and finally, when the for loop is finished, return num.  \n",
    "\n",
    "This method has a runtime of O(n) since the for loop runs n times and the code within the loop has a runtime of O(1)."
   ]
  },
  {
   "cell_type": "code",
   "execution_count": 2,
   "metadata": {},
   "outputs": [],
   "source": [
    "def decimal(self):\n",
    "    num = 0\n",
    "    ind = 0\n",
    "    # compute decimal value \n",
    "    for i in range(len(self.data) - 1, -1, -1):\n",
    "        if self.data[ind] == '1':\n",
    "            num += math.pow(2, i)\n",
    "        ind += 1\n",
    "    return num"
   ]
  },
  {
   "cell_type": "markdown",
   "metadata": {},
   "source": [
    "To add two UnsignedBinaryInteger objects, we must add together their decimal values and then convert this decimal sum to its binary string representation. The first task is fairly straightforward, since we have already created a decimal method to perform the conversion from binary to decimal; we then simply add the two decimal values together and store this in the variable __total__. \n",
    "\n",
    "Now, we want to convert this value into its binary string representation, which we can do by dividing __total__ by the largest power of 2 possible, and appending a string '1' if integer division is possible, otherwise we append '0' to bin_sum, a list representing our binary sum. Then, to get rid of any leading zeros, we iterate through bin_sum to find the first '1' and return an UnsignedBinaryInteger object which passes in a new list beginning with the first 1. If there are no leading zeros, we an pass in the bin_sum list as is into the UnsignedBinaryInteger constructor.\n",
    "\n",
    "This method has a runtime of O(n) since the decimal method, the for loop, the while loop, and the join method all have a runtime of O(n)."
   ]
  },
  {
   "cell_type": "code",
   "execution_count": 3,
   "metadata": {},
   "outputs": [],
   "source": [
    "def __add__(self, other):\n",
    "    # convert each to their decimal value\n",
    "    num1 = self.decimal()\n",
    "    num2 = other.decimal()\n",
    "    # sum the two decimal values \n",
    "    total = num1 + num2\n",
    "    # convert decimal sum to binary sum\n",
    "    bin_sum = []\n",
    "    for num in range(8, -1, -1):\n",
    "        if (total // (math.pow(2, num))) != 0:\n",
    "            bin_sum.append('1')\n",
    "            total %= math.pow(2, num)\n",
    "        else:\n",
    "            bin_sum.append('0')\n",
    "    first = False\n",
    "    ind = 0\n",
    "    while bin_sum[ind] != '1':\n",
    "        ind +=1 \n",
    "        first = True\n",
    "    if first:\n",
    "        new_sum = bin_sum[ind:]\n",
    "        return UnsignedBinaryInteger(''.join(new_sum))\n",
    "    else:\n",
    "        return UnsignedBinaryInteger(''.join(bin_sum))"
   ]
  },
  {
   "cell_type": "markdown",
   "metadata": {},
   "source": [
    "To write the code for the comparison operators, we just compare the decimal values of self and other with each other as shown below (each are linear time methods):"
   ]
  },
  {
   "cell_type": "code",
   "execution_count": 4,
   "metadata": {},
   "outputs": [],
   "source": [
    "def __lt__(self, other):\n",
    "    return (self.decimal() < other.decimal())\n",
    "\n",
    "def __gt__(self, other):\n",
    "    return (self.decimal() > other.decimal())\n",
    "\n",
    "def __eq__(self, other):\n",
    "    return (self.decimal() == other.decimal())"
   ]
  },
  {
   "cell_type": "markdown",
   "metadata": {},
   "source": [
    "To determine if a number is a power of 2, we can iterate through a for loop beginning at len(self.data) - 1 (the highest possible power of 2 the binary number could be) up until 0. If the decimal value of the UnsignedBinaryInteger object is equal to 2 raised to the power of the loop variable, i, then we can immediately return True. If the for loop finishes running without returning anything, then we return False and the binary number is not a power of 2.\n",
    "\n",
    "This method runs in O(n) since the for loop runs n times."
   ]
  },
  {
   "cell_type": "code",
   "execution_count": 5,
   "metadata": {},
   "outputs": [],
   "source": [
    "def is_twos_power(self):\n",
    "    for i in range(len(self.data) - 1, -1, -1):\n",
    "        if self.decimal() == math.pow(2, i):\n",
    "            return True\n",
    "    return False"
   ]
  },
  {
   "cell_type": "markdown",
   "metadata": {},
   "source": [
    "To obtain the largest power of two which is less than or equal to the decimal value of a UnsignedBinaryInteger object, we can write a while loop which runs as long as the decimal value of the binary number is greater than 1. Within, the loop we divide this decimal value by 2 and iterate our variable __count__ to keep track of the power of 2. After the loop ends, we can return $2^{count}$.\n",
    "\n",
    "This method runs in O(n) since __decimal__ is a linear method and the while loop runs in O(log(n)). "
   ]
  },
  {
   "cell_type": "code",
   "execution_count": 6,
   "metadata": {},
   "outputs": [],
   "source": [
    "def largest_twos_power(self):\n",
    "    num = self.decimal()\n",
    "    count = 0\n",
    "    while num > 1:\n",
    "        num //= 2\n",
    "        count += 1\n",
    "    return math.pow(2, count)"
   ]
  },
  {
   "cell_type": "markdown",
   "metadata": {},
   "source": [
    "For the output operator, we return the binary string (self.data) with \"0b\" in front, to indicate that it is a binary number. This method runs in O(n) since self.data is of length n. "
   ]
  },
  {
   "cell_type": "code",
   "execution_count": 7,
   "metadata": {},
   "outputs": [],
   "source": [
    "def __repr__(self):\n",
    "    return \"0b\" + self.data "
   ]
  },
  {
   "cell_type": "markdown",
   "metadata": {},
   "source": [
    "Putting the code all together with some test code, we have:"
   ]
  },
  {
   "cell_type": "code",
   "execution_count": 8,
   "metadata": {},
   "outputs": [
    {
     "name": "stdout",
     "output_type": "stream",
     "text": [
      "b1 is:  0b10011\n",
      "b2 is:  0b100\n",
      "b3 is:  0b10111\n",
      "\n",
      "Checking decimal values:\n",
      "\n",
      "19.0\n",
      "4.0\n",
      "23.0\n",
      "\n",
      "Checking comparisons:\n",
      "\n",
      "False\n",
      "True\n",
      "True\n",
      "False\n",
      "True\n",
      "\n",
      "Checking is_twos_power:\n",
      "\n",
      "False\n",
      "True\n",
      "False\n",
      "False\n",
      "\n",
      "Checking largest_twos_power:\n",
      "\n",
      "16.0\n",
      "4.0\n",
      "16.0\n"
     ]
    }
   ],
   "source": [
    "import math\n",
    "class UnsignedBinaryInteger:\n",
    "    \n",
    "    def __init__(self, bin_num_str):\n",
    "        self.data = bin_num_str\n",
    "    \n",
    "    def decimal(self):\n",
    "        num = 0\n",
    "        ind = 0\n",
    "        # compute decimal value \n",
    "        for i in range(len(self.data) - 1, -1, -1):\n",
    "            if self.data[ind] == '1':\n",
    "                num += math.pow(2, i)\n",
    "            ind += 1\n",
    "        return num\n",
    "    \n",
    "    def __add__(self, other):\n",
    "        # convert each to their decimal value\n",
    "        num1 = self.decimal()\n",
    "        num2 = other.decimal()\n",
    "        # sum the two decimal values \n",
    "        total = num1 + num2\n",
    "        # convert decimal sum to binary sum\n",
    "        bin_sum = []\n",
    "        for num in range(8, -1, -1):\n",
    "            if (total // (math.pow(2, num))) != 0:\n",
    "                bin_sum.append('1')\n",
    "                total %= math.pow(2, num)\n",
    "            else:\n",
    "                bin_sum.append('0')\n",
    "        first = False\n",
    "        ind = 0\n",
    "        while bin_sum[ind] != '1':\n",
    "            ind +=1 \n",
    "            first = True\n",
    "        if first:\n",
    "            new_sum = bin_sum[ind:]\n",
    "            return UnsignedBinaryInteger(''.join(new_sum))\n",
    "        else:\n",
    "            return UnsignedBinaryInteger(''.join(bin_sum))\n",
    "\n",
    "    def __lt__(self, other):\n",
    "        return (self.decimal() < other.decimal())\n",
    "\n",
    "    def __gt__(self, other):\n",
    "        return (self.decimal() > other.decimal())\n",
    "\n",
    "    def __eq__(self, other):\n",
    "        return (self.decimal() == other.decimal())\n",
    "    \n",
    "    def is_twos_power(self):\n",
    "        for i in range(len(self.data) - 1, -1, -1):\n",
    "            if self.decimal() == math.pow(2, i):\n",
    "                return True\n",
    "        return False\n",
    "    \n",
    "    def largest_twos_power(self):\n",
    "        num = self.decimal()\n",
    "        count = 0\n",
    "        while num > 1:\n",
    "            num //= 2\n",
    "            count += 1\n",
    "        return math.pow(2, count)\n",
    "    \n",
    "    def __repr__(self):\n",
    "        return \"0b\" + self.data \n",
    "    \n",
    "#TEST CODE\n",
    "b1 = UnsignedBinaryInteger('10011')\n",
    "b2 = UnsignedBinaryInteger('100')\n",
    "print(\"b1 is: \", b1) #0b10011; b1.data is 10011\n",
    "print(\"b2 is: \", b2) #0b100; b2.data is 100\n",
    "b3 = b1 + b2\n",
    "print(\"b3 is: \", b3) #0b10111\n",
    "print(\"\\nChecking decimal values:\\n\")\n",
    "print(b1.decimal()) #19\n",
    "print(b2.decimal()) #4\n",
    "print(b3.decimal()) #23\n",
    "print(\"\\nChecking comparisons:\\n\")\n",
    "print(b1 < b2) #False\n",
    "print(b2 < b1) #True\n",
    "print(b1 > b2) #True\n",
    "print(b2 > b1) #False\n",
    "print(b1 + b2 == b3) #True\n",
    "print(\"\\nChecking is_twos_power:\\n\")\n",
    "print(b1.is_twos_power()) #False\n",
    "print(b2.is_twos_power()) #True\n",
    "print(b3.is_twos_power()) #False\n",
    "b4 = UnsignedBinaryInteger('110') \n",
    "print(b4.is_twos_power()) #False\n",
    "print(\"\\nChecking largest_twos_power:\\n\")\n",
    "print(b1.largest_twos_power()) #16\n",
    "print(b2.largest_twos_power()) #4\n",
    "print(b3.largest_twos_power()) #16"
   ]
  }
 ],
 "metadata": {
  "kernelspec": {
   "display_name": "Python 3",
   "language": "python",
   "name": "python3"
  },
  "language_info": {
   "codemirror_mode": {
    "name": "ipython",
    "version": 3
   },
   "file_extension": ".py",
   "mimetype": "text/x-python",
   "name": "python",
   "nbconvert_exporter": "python",
   "pygments_lexer": "ipython3",
   "version": "3.8.5"
  }
 },
 "nbformat": 4,
 "nbformat_minor": 2
}
