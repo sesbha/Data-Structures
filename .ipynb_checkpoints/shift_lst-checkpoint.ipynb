{
 "cells": [
  {
   "cell_type": "markdown",
   "metadata": {},
   "source": [
    "Problem: Write a function def shift(lst, k) that is given a list\tof N numbers, and some positive integer\tk (where k<N). The function should shift the numbers circularly\tk steps to\tthe\tleft. The shift\thas\tto be done in-place. That is, the numbers in the\tparameter list should reorder to form the correct output (you shouldn’t create and\treturn a new list with the\tshifted result). For example, if lst = [1, 2, 3, 4, 5, 6] after\tcalling\tshift(lst, 2), lst will\tbe [3, 4, 5, 6, 1, 2]. Modify your\timplementation,\tso\twe\tcould optionally pass to the function a\tthird argument that\tindicates the direction\tof\tthe\tshift\t(either\t‘left’\tor\t‘right’). Note:\tif only two\tparameters are\tpassed,\tthe\tfunction should\tshift, by default, to the left."
   ]
  },
  {
   "cell_type": "markdown",
   "metadata": {},
   "source": [
    " Here, I will show two very similar solutions to this problem (shift and shift2). \n",
    "\n",
    "   For the first implementation, to shift the list to the left in place, we will use a for loop that runs k times. In this loop, we will create a temporary variable, temp, to store the first element of the list. Then with a nested for loop, we will iterate through the elements of the list starting from index 0 and ending at len(lst) - 1 (the reason for which will become clear later, especially by looking at the code), and set each element equal to the value of the element of the current index plus 1. In doing this, we will effectively shift all the elements 1 spot to the left, however the last element of the list will be a repeat value of the previous element. Therefore, we must set the index of the last element of the list to the value assigned to temp at the beginning. The shifting of all the elements will occur k times, leaving us with the correct shifted list. "
   ]
  },
  {
   "cell_type": "markdown",
   "metadata": {},
   "source": [
    "The concept behind shifting to the right is essentially the same, however this time we will iterate through the list backwards and will set the element of the current index to the value of its preceding element. The the temp value created will store the last element of the list so that at the end of the nested for loop, index 0 will be assigned to temp."
   ]
  },
  {
   "cell_type": "code",
   "execution_count": 1,
   "metadata": {},
   "outputs": [
    {
     "name": "stdout",
     "output_type": "stream",
     "text": [
      "[5, 6, 1, 2, 3, 4]\n",
      "[3, 4, 5, 6, 1, 2]\n"
     ]
    }
   ],
   "source": [
    "def shift(lst, k, direction = 'left'): #include direction as parameter with default value = 'left'\n",
    "    \n",
    "    if k >= len(lst): #handle invalid inputs\n",
    "        raise Exception(\"k must be less than the length of the list!\")\n",
    "    \n",
    "    if direction == 'right': \n",
    "        \n",
    "        for i in range(k):\n",
    "            temp = lst[len(lst)-1] #set temp to last value of lst\n",
    "            for j in range(len(lst) - 1, -1, -1): #iterate through lst backwards\n",
    "                lst[j] = lst[j-1] #set each element to the previous value\n",
    "            lst[0] = temp #replace the first element of the list with temp\n",
    "        return lst\n",
    "\n",
    "    else: #direction = 'left' \n",
    "        \n",
    "        for i in range(k):\n",
    "            temp = lst[0] \n",
    "            for j in range(len(lst)-1):\n",
    "                lst[j] = lst[j+1] #set each element to the next value\n",
    "            lst[len(lst)-1] = temp #restore value of last element to temp value\n",
    "        return lst\n",
    "\n",
    "print(shift([1,2,3,4,5,6], 2, direction = 'right'))\n",
    "print(shift([1,2,3,4,5,6], 2))"
   ]
  },
  {
   "cell_type": "markdown",
   "metadata": {},
   "source": [
    "The second implementation is fairly similar, however instead of setting each element to the previous (or the next, depending on the direction of the shift), we can swap two elements at once. This avoids the need for a temp value at the beginning, shown as follows."
   ]
  },
  {
   "cell_type": "code",
   "execution_count": 2,
   "metadata": {},
   "outputs": [
    {
     "name": "stdout",
     "output_type": "stream",
     "text": [
      "[5, 6, 1, 2, 3, 4]\n",
      "[3, 4, 5, 6, 1, 2]\n"
     ]
    }
   ],
   "source": [
    "def shift2(lst, k, direction = 'left'):\n",
    "    \n",
    "    if k >= len(lst):\n",
    "        raise Exception(\"k must be less than the length of the list!\")\n",
    "    \n",
    "    if direction == 'right':\n",
    "        \n",
    "        for i in range(k):\n",
    "            for j in range(len(lst) - 1, 0, -1): #now the stop index is 0 instead of -1 to have valid indices\n",
    "                lst[j], lst[j-1] = lst[j-1], lst[j] #swap two elements in place without temp\n",
    "        return lst\n",
    "    \n",
    "    else:\n",
    "        \n",
    "        for i in range(k):\n",
    "            for j in range(len(lst) - 1): #index range is once again adjusted so that valid indices are used for the swap\n",
    "                lst[j], lst[j+1] = lst[j+1], lst[j]\n",
    "        return lst\n",
    "    \n",
    "print(shift2([1,2,3,4,5,6], 2, direction = 'right'))\n",
    "print(shift2([1,2,3,4,5,6], 2))"
   ]
  }
 ],
 "metadata": {
  "kernelspec": {
   "display_name": "Python 3",
   "language": "python",
   "name": "python3"
  },
  "language_info": {
   "codemirror_mode": {
    "name": "ipython",
    "version": 3
   },
   "file_extension": ".py",
   "mimetype": "text/x-python",
   "name": "python",
   "nbconvert_exporter": "python",
   "pygments_lexer": "ipython3",
   "version": "3.7.4"
  }
 },
 "nbformat": 4,
 "nbformat_minor": 2
}
