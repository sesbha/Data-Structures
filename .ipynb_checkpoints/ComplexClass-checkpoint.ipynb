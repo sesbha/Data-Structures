{
 "cells": [
  {
   "cell_type": "markdown",
   "metadata": {},
   "source": [
    "### Create a Class For Complex Variables"
   ]
  },
  {
   "cell_type": "markdown",
   "metadata": {},
   "source": [
    "__Problem: Define a class Complex to represent complex numbers. Complex numbers take the form a +\n",
    "bi where a and b are real numbers (float) and i is the imaginary unit √−1 . More on Complex\n",
    "numbers: https://en.wikipedia.org/wiki/Complex_number.__\n",
    "\n",
    "__a) First, define the constructor below:__"
   ]
  },
  {
   "cell_type": "code",
   "execution_count": null,
   "metadata": {},
   "outputs": [],
   "source": [
    "'''class Complex:\n",
    "        def __init__(self, a, b):'''"
   ]
  },
  {
   "cell_type": "markdown",
   "metadata": {},
   "source": [
    "Then implement the following methods by overloading the operators. For example, by defining the __add__ operator, you will be able to use the + operator to add two complex numbers. With the +, -, and * operators, a new Complex object is created\n",
    "while the values of the original complex objects are not changed."
   ]
  },
  {
   "cell_type": "markdown",
   "metadata": {},
   "source": [
    "To represent a complex number, we will simply split it into its components, a and b."
   ]
  },
  {
   "cell_type": "code",
   "execution_count": 1,
   "metadata": {},
   "outputs": [],
   "source": [
    "class Complex:\n",
    "    def __init__(self, a, b):\n",
    "        self.a = a\n",
    "        self.b = b"
   ]
  },
  {
   "cell_type": "markdown",
   "metadata": {},
   "source": [
    "__b) This add operator will add two complex numbers and create a new complex number object with the result.__"
   ]
  },
  {
   "cell_type": "markdown",
   "metadata": {},
   "source": [
    "When we add two complex numbers, we take the sum of the a components and the sum of the b components, separately, to form the resultant complex number. Similarly, in the code, we will add the a and b components and assign their sums to variables representing the corresponding components of the result Complex object. Finally, we will return a new Complex object using these variables (first and second, below)."
   ]
  },
  {
   "cell_type": "code",
   "execution_count": 2,
   "metadata": {},
   "outputs": [],
   "source": [
    "def __add__(self, other):\n",
    "    first = self.a + other.a\n",
    "    second = self.b + other.b\n",
    "    return Complex(first, second)"
   ]
  },
  {
   "cell_type": "markdown",
   "metadata": {},
   "source": [
    "__c) This sub operator will find the difference of two complex numbers and create a new complex number object with the result__"
   ]
  },
  {
   "cell_type": "markdown",
   "metadata": {},
   "source": [
    "The sub operator code below should look very similar to the add operator code, except for the fact that we will be performing subtraction instead of addition."
   ]
  },
  {
   "cell_type": "code",
   "execution_count": 3,
   "metadata": {},
   "outputs": [],
   "source": [
    "def __sub__(self, other):\n",
    "    first = self.a - other.a\n",
    "    second = self.b - other.b\n",
    "    return Complex(first, second)"
   ]
  },
  {
   "cell_type": "markdown",
   "metadata": {},
   "source": [
    "__d) This mul operator will multiply two complex numbers and create a new complex number object with the result. Use the FOIL method.__"
   ]
  },
  {
   "cell_type": "markdown",
   "metadata": {},
   "source": [
    "To multiply two complex numbers in the form (a + bi)(a + bi), we must use the FOIL method - first, outside, inside, last. The \"first\" product and the \"last\" product both result in a number without i terms, so their sum represents the result complex number's a component. Since the \"last\" product includes the product of two i terms and $i^{2}$ = -1, we have to multiply the product of the b components by -1. Similarly, to obtain the result complex number's b component, we take the sum of the \"outside\" product and the \"inside\" products.\n",
    "\n",
    "Note: For more details on the FOIL method, visit http://www.mesacc.edu/~scotz47781/mat120/notes/polynomials/foil_method/foil_method.html"
   ]
  },
  {
   "cell_type": "code",
   "execution_count": 4,
   "metadata": {},
   "outputs": [],
   "source": [
    "def __mul__(self, other):\n",
    "    first = (self.a * other.a) + (self.b * other.b * -1)\n",
    "    second = (self.a * other.b) + (self.b * other.a)\n",
    "    return Complex(first, second)"
   ]
  },
  {
   "cell_type": "markdown",
   "metadata": {},
   "source": [
    "__e) The repr operator allows you to convert the Complex object to a str object and display it as output by calling print( ).__"
   ]
  },
  {
   "cell_type": "code",
   "execution_count": 5,
   "metadata": {},
   "outputs": [],
   "source": [
    "def __repr__(self):\n",
    "    if self.b < 0:\n",
    "        return str(self.a) + ' - ' + str(abs(self.b)) +'i'\n",
    "    else:\n",
    "        return str(self.a) + ' + ' + str(abs(self.b)) + 'i'"
   ]
  },
  {
   "cell_type": "markdown",
   "metadata": {},
   "source": [
    "Putting the code all together along with some test code, we have:"
   ]
  },
  {
   "cell_type": "code",
   "execution_count": 6,
   "metadata": {},
   "outputs": [
    {
     "name": "stdout",
     "output_type": "stream",
     "text": [
      "5 + 2i\n",
      "3 + 3i\n",
      "8 + 5i\n",
      "2 - 1i\n",
      "9 + 21i\n",
      "5 + 2i\n",
      "3 + 3i\n"
     ]
    }
   ],
   "source": [
    "class Complex:\n",
    "    def __init__(self, a, b):\n",
    "        self.a = a\n",
    "        self.b = b\n",
    "    def __add__(self, other):\n",
    "        first = self.a + other.a\n",
    "        second = self.b + other.b\n",
    "        return Complex(first, second)\n",
    "    def __sub__(self, other):\n",
    "        first = self.a - other.a\n",
    "        second = self.b - other.b\n",
    "        return Complex(first, second)\n",
    "    def __mul__(self, other):\n",
    "        first = (self.a * other.a) + (self.b * other.b * -1)\n",
    "        second = (self.a * other.b) + (self.b * other.a)\n",
    "        return Complex(first, second)\n",
    "    def __repr__(self):\n",
    "        if self.b < 0:\n",
    "            return str(self.a) + ' - ' + str(abs(self.b)) +'i'\n",
    "        else:\n",
    "            return str(self.a) + ' + ' + str(abs(self.b)) + 'i'\n",
    "\n",
    "# test code\n",
    "\n",
    "#constructor, output\n",
    "cplx1 = Complex(5, 2)\n",
    "print(cplx1) #5 + 2i\n",
    "cplx2 = Complex(3, 3)\n",
    "print(cplx2) #3 + 3i\n",
    "\n",
    "#addition\n",
    "print(cplx1 + cplx2) #8 + 5i\n",
    "\n",
    "#subtraction\n",
    "print(cplx1 - cplx2) #2 - 1i\n",
    "\n",
    "#multiplication\n",
    "print(cplx1 * cplx2) #9 + 21i\n",
    "\n",
    "#original objects remain unchanged\n",
    "print(cplx1) #5 + 2i\n",
    "print(cplx2) #3 + 3i"
   ]
  },
  {
   "cell_type": "markdown",
   "metadata": {},
   "source": [
    "All the methods in the Complex Class run in O(1) since all operations performed in the code are constant time operations."
   ]
  }
 ],
 "metadata": {
  "kernelspec": {
   "display_name": "Python 3",
   "language": "python",
   "name": "python3"
  },
  "language_info": {
   "codemirror_mode": {
    "name": "ipython",
    "version": 3
   },
   "file_extension": ".py",
   "mimetype": "text/x-python",
   "name": "python",
   "nbconvert_exporter": "python",
   "pygments_lexer": "ipython3",
   "version": "3.7.4"
  }
 },
 "nbformat": 4,
 "nbformat_minor": 2
}
