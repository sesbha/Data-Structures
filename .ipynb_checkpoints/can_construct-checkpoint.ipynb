{
 "cells": [
  {
   "cell_type": "markdown",
   "metadata": {},
   "source": [
    "### Determine Whether a Word Can Be Constructed From a String Of Letters"
   ]
  },
  {
   "cell_type": "markdown",
   "metadata": {},
   "source": [
    "__Implement the following function:__"
   ]
  },
  {
   "cell_type": "code",
   "execution_count": null,
   "metadata": {},
   "outputs": [],
   "source": [
    "\"\"\"def can_construct(word , letters):\n",
    "        word - type: str\n",
    "        letters - type: str\n",
    "        return value - type: bool\n",
    "\"\"\""
   ]
  },
  {
   "cell_type": "markdown",
   "metadata": {},
   "source": [
    "__This function is passed in a string containing a word, and another string containing letters in your hand. When called, it will return True if the word can be constructed with the letters provided; otherwise, it will return False.__\n",
    "\n",
    "Notes:\n",
    "\n",
    "● Each letter provided can only be used one.\n",
    "\n",
    "● You may assume that the word and letters will only contain lower-case letters.\n",
    "\n",
    "ex) can_construct(\"apples\", \"aples\") will return False.\n",
    "\n",
    "ex) can_construct(\"apples\", \"aplespl\") will return True."
   ]
  },
  {
   "cell_type": "markdown",
   "metadata": {},
   "source": [
    "To solve this problem, we can convert both the string inputs (word and letters) into a list of letters and use the list sort method. Then we can check whether the sorted list created by list(word) is equal to the sorted list of letters."
   ]
  },
  {
   "cell_type": "code",
   "execution_count": 1,
   "metadata": {},
   "outputs": [
    {
     "name": "stdout",
     "output_type": "stream",
     "text": [
      "False\n",
      "False\n"
     ]
    }
   ],
   "source": [
    "def can_construct(word , letters):\n",
    "    ls_word = list(word)\n",
    "    ls_letters = list(letters)\n",
    "    ls_word.sort()\n",
    "    ls_letters.sort()\n",
    "    if ls_word == ls_letters:\n",
    "        return True\n",
    "    else:\n",
    "        return False\n",
    "    \n",
    "# tester code\n",
    "\n",
    "print(can_construct('apples', 'aples'))\n",
    "print(can_construct('apples', 'aplespl'))"
   ]
  },
  {
   "cell_type": "markdown",
   "metadata": {},
   "source": [
    "The runtime of this function is T(n) = O(nlog(n)) because of the sort method."
   ]
  }
 ],
 "metadata": {
  "kernelspec": {
   "display_name": "Python 3",
   "language": "python",
   "name": "python3"
  },
  "language_info": {
   "codemirror_mode": {
    "name": "ipython",
    "version": 3
   },
   "file_extension": ".py",
   "mimetype": "text/x-python",
   "name": "python",
   "nbconvert_exporter": "python",
   "pygments_lexer": "ipython3",
   "version": "3.7.4"
  }
 },
 "nbformat": 4,
 "nbformat_minor": 2
}
