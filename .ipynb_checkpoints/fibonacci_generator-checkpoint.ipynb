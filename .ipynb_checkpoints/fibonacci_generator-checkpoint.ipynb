{
 "cells": [
  {
   "cell_type": "markdown",
   "metadata": {},
   "source": [
    "### Fibonacci Generator Function"
   ]
  },
  {
   "cell_type": "markdown",
   "metadata": {},
   "source": [
    "Problem: The Fibonacci Numbers Sequence, $F_{n}$, is defined as follows: $F_{0}$ is 1,\t$F_{1}$ is 1, and $F_{n}$ = $F_{n-1}$ + $F_{n-2}$ for n = 2, 3, 4, ... In\tother words, each number is\tthe\tsum\tof the previous\ttwo\tnumbers. The first 10 numbers in Fibonacci sequence\tare: 1,\t1, 2, 3, 5, 8, 13, 21, 34, 55. More background of the Fibonacci sequence can be found here: https://en.wikipedia.org/wiki/Fibonacci_number.\n",
    "\n",
    "Implement a\tfunction def fibs(n). This function\tis given a positive integer\tn, and returns a generator,\tthat when iterated over, it\twill have the first\tn elements in the Fibonacci\tsequence."
   ]
  },
  {
   "cell_type": "markdown",
   "metadata": {},
   "source": [
    "A generator in Python, is an iterator that allows to break the execution of the code. Generators perform lazy evaluation by producing an iterable sequence and exposing elements only when they are needed. In this way, generators avoid storing all the elements at once in the memory. When a \"yield\" is reached in the code, the execution of the code is put on pause, and a snapshot of the active data frame as well as the position of where execution should resume in the code is stored. Then, when the next(iterator) is called, the execution resumes.     "
   ]
  },
  {
   "cell_type": "markdown",
   "metadata": {},
   "source": [
    "To solve this problem by returning a generator, we must use yield. "
   ]
  },
  {
   "cell_type": "code",
   "execution_count": null,
   "metadata": {},
   "outputs": [],
   "source": [
    "def fibs(n):\n",
    "    count = 0\n",
    "    a, b = 1, 1\n",
    "    while count < n:\n",
    "        yield a\n",
    "        a, b = b, a + b\n",
    "        count += 1\n",
    "        \n",
    "for curr in fibs(8):\n",
    "    print(curr)"
   ]
  }
 ],
 "metadata": {
  "kernelspec": {
   "display_name": "Python 3",
   "language": "python",
   "name": "python3"
  },
  "language_info": {
   "codemirror_mode": {
    "name": "ipython",
    "version": 3
   },
   "file_extension": ".py",
   "mimetype": "text/x-python",
   "name": "python",
   "nbconvert_exporter": "python",
   "pygments_lexer": "ipython3",
   "version": "3.7.4"
  }
 },
 "nbformat": 4,
 "nbformat_minor": 2
}
