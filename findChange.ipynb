{
 "cells": [
  {
   "cell_type": "markdown",
   "metadata": {},
   "source": [
    "## Implementing findChange"
   ]
  },
  {
   "cell_type": "markdown",
   "metadata": {},
   "source": [
    "__Implement\tthe\tfunction def findChange(lst01). This function is given lst01, a\tlist of\tintegers containing\ta sequence of 0s followed by a sequence of 1s. When called,\tit returns the index of\tthe\tfirst 1\tin lst01.__\n",
    "\n",
    "e.g. If __lst01__ = [0, 0, 0, 0, 0, 1, 1, 1], __findChange(lst01)__ will return 5."
   ]
  },
  {
   "cell_type": "markdown",
   "metadata": {},
   "source": [
    "To optimize time complexity, we can solve this problem using the concept of binary search. We initialize __left__ to index 0, __right__ to the last index of the list or __len(lst01) - 1__, and __ind__ to __None__. Then using a while loop which runs as long as the index stored in __right__ is greater than that of __left__, we create local variable __mid__ which we define as the mean of __left__ and __right__, that is, $\\frac{left + right}{2}$. Next we perform a check to see whether the value stored at index __mid__ is equal to 0 or 1. If it is equal to 1, we need to check whether the __left__ index is 0 or 1. If $left=1$, we have found where the index has changed to 1 and we can set $ind = left$ and return __ind__. However, if $left=0$, we have to shift our left index inward by adding 1 to __left__ and move our right index inward by setting __right__ equal to __mid__. If the value at __mid__ is equal to 0, then we must move rightward in the list to continue our search, so we set __left__ to __mid + 1__.   "
   ]
  },
  {
   "cell_type": "code",
   "execution_count": 1,
   "metadata": {},
   "outputs": [
    {
     "name": "stdout",
     "output_type": "stream",
     "text": [
      "5\n",
      "None\n"
     ]
    }
   ],
   "source": [
    "def findChange(lst01):\n",
    "    left = 0\n",
    "    right = len(lst01) - 1\n",
    "    ind = None\n",
    "    while right >= left:\n",
    "        mid = (left + right) // 2\n",
    "        if lst01[mid] == 1:\n",
    "            if lst01[left] == 1:\n",
    "                ind = left\n",
    "                return ind\n",
    "            if lst01[left] == 0:\n",
    "                left += 1\n",
    "                right = mid\n",
    "        else:\n",
    "            left = mid + 1\n",
    "    return\n",
    "\n",
    "# TEST CODE\n",
    "# example 1\n",
    "lst1 = [0, 0, 0, 0, 0, 1, 1, 1]\n",
    "print(findChange(lst1))\n",
    "\n",
    "# example 2\n",
    "lst2 = [0, 0, 0]\n",
    "print(findChange(lst2))"
   ]
  }
 ],
 "metadata": {
  "kernelspec": {
   "display_name": "Python 3",
   "language": "python",
   "name": "python3"
  },
  "language_info": {
   "codemirror_mode": {
    "name": "ipython",
    "version": 3
   },
   "file_extension": ".py",
   "mimetype": "text/x-python",
   "name": "python",
   "nbconvert_exporter": "python",
   "pygments_lexer": "ipython3",
   "version": "3.8.5"
  }
 },
 "nbformat": 4,
 "nbformat_minor": 4
}
