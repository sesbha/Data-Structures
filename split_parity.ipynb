{
 "cells": [
  {
   "cell_type": "markdown",
   "metadata": {},
   "source": [
    "## Implementing a split_parity Function"
   ]
  },
  {
   "cell_type": "markdown",
   "metadata": {},
   "source": [
    "__Implement\tthe function def split_parity(lst).\tThe function takes lst,\ta list of integers. When called, the function changes the order\tof numbers in lst (in-place) so that all the odd numbers will appear first, and all the even numbers will appear last.__\n",
    "\n",
    "Note: The inner\torder of the odd numbers and the inner order of\tthe\teven numbers don’t matter.\n",
    "For\texample, if\t__lst__ is a list containing [1, 2,\t3, 4], after calling __split_parity__, __lst__ could look like:\t[3,\t1, 2, 4]."
   ]
  },
  {
   "cell_type": "markdown",
   "metadata": {},
   "source": [
    "In order to implement this function, we need to perform in-place swaps to move the odd numbers to the beginning of the list and the even numbers to the end of the list. To do this, we should iterate through __lst__ and write an if statement to check whether the number at the current index is odd. If so, we can swap it with the value at __swap_index__, initialized to 0, which we use to swap the odd and even numbers. After the swap we can increment __swap_index__. Finally, after the for loop is finished, we return __lst__. \n",
    "\n",
    "This function runs in linear time, since we have a for loop which iterates through n elements and the code inside the loop contains constant time operations."
   ]
  },
  {
   "cell_type": "code",
   "execution_count": 1,
   "metadata": {},
   "outputs": [],
   "source": [
    "def split_parity(lst):\n",
    "    swap_index = 0\n",
    "    for i in range(len(lst)):\n",
    "        if lst[i] % 2 != 0:\n",
    "            lst[swap_index], lst[i] = lst[i], lst[swap_index]\n",
    "            swap_index += 1\n",
    "    return lst"
   ]
  },
  {
   "cell_type": "markdown",
   "metadata": {},
   "source": [
    "Using the example from above, we can see that we get the expected output (note that the order of the 1 and 3 does not matter):"
   ]
  },
  {
   "cell_type": "code",
   "execution_count": 2,
   "metadata": {},
   "outputs": [
    {
     "data": {
      "text/plain": [
       "[1, 3, 2, 4]"
      ]
     },
     "execution_count": 2,
     "metadata": {},
     "output_type": "execute_result"
    }
   ],
   "source": [
    "lst = [1, 2, 3, 4]\n",
    "split_parity(lst)"
   ]
  }
 ],
 "metadata": {
  "kernelspec": {
   "display_name": "Python 3",
   "language": "python",
   "name": "python3"
  },
  "language_info": {
   "codemirror_mode": {
    "name": "ipython",
    "version": 3
   },
   "file_extension": ".py",
   "mimetype": "text/x-python",
   "name": "python",
   "nbconvert_exporter": "python",
   "pygments_lexer": "ipython3",
   "version": "3.8.5"
  }
 },
 "nbformat": 4,
 "nbformat_minor": 4
}
