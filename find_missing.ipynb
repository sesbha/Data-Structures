{
 "cells": [
  {
   "cell_type": "markdown",
   "metadata": {},
   "source": [
    "## Find the Missing Number From a List With n Elements"
   ]
  },
  {
   "cell_type": "markdown",
   "metadata": {},
   "source": [
    "__Implement the function def find_missing(lst) which takes in a list with n numbers, all taken from the range\n",
    "0 to n, with one of the numbers removed. None of the numbers in the list are\n",
    "repeated. The function searches through the list and returns the missing number.__\n",
    "\n",
    "e.g. lst = [0, 1, 2, 3, 4, 5, 6, 8] is a list of 8 numbers, from the range 0 to 8, with the number 7 missing. Therefore, the function will return 7."
   ]
  },
  {
   "cell_type": "markdown",
   "metadata": {},
   "source": [
    "We can solve this problem differently for 2 cases, one for which the given list is __sorted__ and the second for which the list is __unsorted__."
   ]
  },
  {
   "cell_type": "markdown",
   "metadata": {},
   "source": [
    "### Sorted List\n",
    "If we know that the given list is sorted, we can take advantage of this by iterating through the list using a for loop and simply checking if the difference between the next and the current element is greater than 1; if so, then the missing number is the current element plus 1. Note, we must first check if the first element of the list is 0. If this is true, we should return 0. \n",
    "\n",
    "This function runs in $O(n)$ since we use a for loop to iterate through the list."
   ]
  },
  {
   "cell_type": "code",
   "execution_count": 1,
   "metadata": {},
   "outputs": [
    {
     "name": "stdout",
     "output_type": "stream",
     "text": [
      "7\n",
      "None\n"
     ]
    }
   ],
   "source": [
    "def find_missing_sorted(lst):\n",
    "    if lst[0] != 0: # if lst = [0]\n",
    "        return 0\n",
    "    for i in range(len(lst) - 1):\n",
    "        if (lst[i+1] - lst[i] > 1): # check for missing number\n",
    "            return lst[i] + 1\n",
    "\n",
    "# TEST CODE\n",
    "\n",
    "# example 1\n",
    "lst1 = [0, 1, 2, 3, 4, 5, 6, 8]\n",
    "print(find_missing_sorted(lst1))\n",
    "\n",
    "# example 2\n",
    "lst2 = [0]\n",
    "print(find_missing_sorted(lst2))"
   ]
  },
  {
   "cell_type": "markdown",
   "metadata": {},
   "source": [
    "### Unsorted List\n",
    "If the given list is unsorted, we must approach the problem differently; we can sum up the elements in the list and subtract that from the sum of __all__ the numbers in the range 0 to n.\n",
    "\n",
    "Since we know that the list is missing one number in the range 0 to n, then $n=len(lst)+1$. The sum of the numbers in __lst__ is given by __sum(lst)__ and similarly, the sum of all the numbers in the range 0 to n or __range(len(lst) + 1)__, is found by calling the Python __sum__ function on this range. Subtracting these two values yields the missing number. Note that this technique could also be used on a sorted list. \n",
    "\n",
    "This function runs in $O(n)$ since we use the Python __sum__ function, which is a linear operation."
   ]
  },
  {
   "cell_type": "code",
   "execution_count": 2,
   "metadata": {},
   "outputs": [
    {
     "name": "stdout",
     "output_type": "stream",
     "text": [
      "7\n"
     ]
    }
   ],
   "source": [
    "def find_missing_unsorted(lst):\n",
    "    lst_sum = sum(lst)\n",
    "    return sum(range(len(lst) + 1)) - lst_sum\n",
    "\n",
    "lst = [8, 6, 0, 4, 3, 5, 1, 2]\n",
    "print(find_missing_unsorted(lst))"
   ]
  }
 ],
 "metadata": {
  "kernelspec": {
   "display_name": "Python 3",
   "language": "python",
   "name": "python3"
  },
  "language_info": {
   "codemirror_mode": {
    "name": "ipython",
    "version": 3
   },
   "file_extension": ".py",
   "mimetype": "text/x-python",
   "name": "python",
   "nbconvert_exporter": "python",
   "pygments_lexer": "ipython3",
   "version": "3.8.5"
  }
 },
 "nbformat": 4,
 "nbformat_minor": 4
}
