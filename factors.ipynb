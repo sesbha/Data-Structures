{
 "cells": [
  {
   "cell_type": "markdown",
   "metadata": {},
   "source": [
    "## Implementing a factors Function"
   ]
  },
  {
   "cell_type": "markdown",
   "metadata": {},
   "source": [
    "__Implement a\tfunction def factors(num). This\tfunction is\tgiven a\tpositive integer num, and returns a\tgenerator, that\twhen\titerated over, it will have\tall\tof num’s divisors in an\tascending order.__\n",
    "\n",
    "For\texample, if\twe execute the following code:"
   ]
  },
  {
   "cell_type": "code",
   "execution_count": null,
   "metadata": {},
   "outputs": [],
   "source": [
    "for curr_factor in factors(100):\n",
    "    print(curr_factor, end = ' ')"
   ]
  },
  {
   "cell_type": "markdown",
   "metadata": {},
   "source": [
    "The\texpected output\tis:\n",
    "1 2 4 5 10 20 25 50 100"
   ]
  },
  {
   "cell_type": "markdown",
   "metadata": {},
   "source": [
    "To solve this problem in optimal time, we can split the range of possible factors from 1 to __num__, into two ranges - one from 1 to $\\sqrt{num}$ exclusive and the other from $\\sqrt{num}$ inclusive till __num__. This way, we iterate through two for loops, each with time complexity $O(\\sqrt{n})$ rather than one for loop which runs in $O(n)$. If __num__ is divisible by the current number (potential factor), then we yield that number."
   ]
  },
  {
   "cell_type": "code",
   "execution_count": 1,
   "metadata": {},
   "outputs": [],
   "source": [
    "def factors(num):\n",
    "    for curr in range(1, int(num ** 0.5)):\n",
    "        if num % curr == 0:\n",
    "            yield curr\n",
    "    for curr in range(int(num ** 0.5), num + 1):\n",
    "        if num % curr == 0:\n",
    "            yield curr"
   ]
  },
  {
   "cell_type": "markdown",
   "metadata": {},
   "source": [
    "As expected, using the example above, we get the following output: "
   ]
  },
  {
   "cell_type": "code",
   "execution_count": 2,
   "metadata": {},
   "outputs": [
    {
     "name": "stdout",
     "output_type": "stream",
     "text": [
      "1 2 4 5 10 20 25 50 100 "
     ]
    }
   ],
   "source": [
    "def factors(num):\n",
    "    for curr in range(1, int(num ** 0.5)):\n",
    "        if num % curr == 0:\n",
    "            yield curr\n",
    "    for curr in range(int(num ** 0.5), num + 1):\n",
    "        if num % curr == 0:\n",
    "            yield curr\n",
    "            \n",
    "for curr_factor in factors(100):\n",
    "    print(curr_factor, end = ' ')"
   ]
  }
 ],
 "metadata": {
  "kernelspec": {
   "display_name": "Python 3",
   "language": "python",
   "name": "python3"
  },
  "language_info": {
   "codemirror_mode": {
    "name": "ipython",
    "version": 3
   },
   "file_extension": ".py",
   "mimetype": "text/x-python",
   "name": "python",
   "nbconvert_exporter": "python",
   "pygments_lexer": "ipython3",
   "version": "3.8.5"
  }
 },
 "nbformat": 4,
 "nbformat_minor": 4
}
