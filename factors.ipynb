{
 "cells": [
  {
   "cell_type": "markdown",
   "metadata": {},
   "source": [
    "Implement a\tfunction def factors(num). This\tfunction is\tgiven a\tpositive integer num, and returns a\tgenerator, that\twhen\titerated over, it will have\tall\tof num’s divisors in an\tascending order.\n",
    "\n",
    "For\texample, if\twe execute the following code: \n",
    "\n",
    "for curr_factor in factors(100): $\\newline$\n",
    "    $\\tab$ print(curr_factor)\n",
    " \n",
    "The\texpected output\tis:\n",
    "1 2 4 5 10 20 25 50 100"
   ]
  },
  {
   "cell_type": "markdown",
   "metadata": {},
   "source": []
  },
  {
   "cell_type": "code",
   "execution_count": null,
   "metadata": {},
   "outputs": [],
   "source": [
    "def factors(num):\n",
    "    for curr in range(1, int(num ** 0.5)):\n",
    "        if num % curr == 0:\n",
    "            yield curr\n",
    "    for curr in range(int(num ** 0.5), num + 1):\n",
    "        if num % curr == 0:\n",
    "            yield curr"
   ]
  }
 ],
 "metadata": {
  "kernelspec": {
   "display_name": "Python 3",
   "language": "python",
   "name": "python3"
  },
  "language_info": {
   "codemirror_mode": {
    "name": "ipython",
    "version": 3
   },
   "file_extension": ".py",
   "mimetype": "text/x-python",
   "name": "python",
   "nbconvert_exporter": "python",
   "pygments_lexer": "ipython3",
   "version": "3.8.5"
  }
 },
 "nbformat": 4,
 "nbformat_minor": 4
}
