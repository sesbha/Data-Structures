{
 "cells": [
  {
   "cell_type": "markdown",
   "metadata": {},
   "source": [
    "### Creating a Vector Class"
   ]
  },
  {
   "cell_type": "markdown",
   "metadata": {},
   "source": [
    "__You\tare\tgiven an implementation\tof a Vector class, representing\tthe\tcoordinates\tof a vector\tin a multidimensional space. For example, in a three-dimensional space,\twe might wish to represent a vector\twith coordinates <5,−2, 3>.__"
   ]
  },
  {
   "cell_type": "markdown",
   "metadata": {},
   "source": [
    "The\tVector class provides a\tconstructor\tthat takes an integer d, and produces a\td-dimensional vector with all coordinates\tequal to 0.\tAnother\tconvenient form\tfor\tcreating a new vector would\tbe to send the constructor\ta parameter\tthat is\tsome iterable object representing a\tsequence of\tnumbers, and to\tcreate a vector\twith dimension equal to\tthe\tlength of that sequence and\tcoordinates\tequal to the sequence values. For example, Vector([4, 7, 5]) would produce a three-dimensional vector with\tcoordinates\t<4, 7, 5>.\t\n",
    "\n",
    "__a) Modify the constructor so that either of these forms is\tacceptable;\tthat is, if\ta single integer is\tsent, it produces a\tvector of that dimension with all zeros, but if\ta sequence of numbers is provided, it produces a vector with coordinates based on that sequence.__\t"
   ]
  },
  {
   "cell_type": "markdown",
   "metadata": {},
   "source": [
    "In order to accept both forms, we must modify the constructor by using the isinstance method. If the user provides an integer input, a list of zeroes will be created and assigned to the coordinates of the vector. If a list is provided, that input list represents the coordinates of the vector.\n",
    "\n",
    "The original constructor is given by the commented code. The other methods are given as follows:"
   ]
  },
  {
   "cell_type": "code",
   "execution_count": 1,
   "metadata": {},
   "outputs": [],
   "source": [
    "class Vector:\n",
    "    \n",
    "    #def __init__(self, d):\n",
    "        #self.coords = [0] * d\n",
    "    \n",
    "    def __init__(self, d): # T(n) = O(n)\n",
    "        if isinstance(d,int): \n",
    "            self.coords = [0] * d #if int, initialize a list of d zeros\n",
    "        elif isinstance(d, list):\n",
    "            self.coords = d #if list, d represents the coordinates, themselves\n",
    "            \n",
    "    def __len__(self): # T(n) = O(1)\n",
    "        return len(self.coords)\n",
    "    \n",
    "    def __getitem__(self, j): # T(n) = O(1)\n",
    "        return self.coords[j]\n",
    "    \n",
    "    def __setitem__(self, j, val): # T(n) = O(1)\n",
    "        self.coords[j] = val\n",
    "        \n",
    "    def __add__(self, other): # T(n) = O(n)\n",
    "        if (len(self) != len(other)):\n",
    "            raise ValueError(\"dimensions must agree\")\n",
    "        result = Vector(len(self))\n",
    "        for j in range(len(self)):\n",
    "            result[j] = self[j] + other[j]\n",
    "        return result\n",
    "    \n",
    "    def __eq__(self, other): # T(n) = O(1)\n",
    "        return self.coords == other.coords\n",
    "    \n",
    "    def __ne__(self, other): # T(n) = O(1)\n",
    "        return not (self == other)\n",
    "    \n",
    "    def __str__(self): # T(n) = O(n)\n",
    "        return '<'+ str(self.coords)[1:-1] + '>'\n",
    "    \n",
    "    def __repr__(self): # T(n) = O(1)\n",
    "        return str(self)"
   ]
  },
  {
   "cell_type": "markdown",
   "metadata": {},
   "source": [
    "__b) Implement the sub method for the Vector class, so\tthat the expression\tu−v returns\ta new vector instance representing the\tdifference between\ttwo\tvectors__."
   ]
  },
  {
   "cell_type": "markdown",
   "metadata": {},
   "source": [
    "To subtract two vectors, they must be of the same dimension. For example if $v_{1}$ = <1,2,3> and $v_{2}$ = <4,5,6>, $v_{2}$ - $v_{1}$ would be possible (resultant vector $v_{3}$ = <3,3,3>), however if $v_{2}$ = <4,5,6,7> that would not be the case. What does this mean in terms of the code? The length of the coordinates list for $v_{1}$ must equal that of the coordinates list for $v_{2}$. If the vectors are of equal dimension, then we can take their difference. First, we will create a resultant vector of equal dimension to the given vectors. Using a for loop, we can set each component of the resultant vector to the difference of the individual components of the input vectors, and finally return the resultant vector. "
   ]
  },
  {
   "cell_type": "code",
   "execution_count": 2,
   "metadata": {},
   "outputs": [],
   "source": [
    "def __sub__(self, other):\n",
    "    if (len(self) != len(other)): #different dimensions, can't subtract\n",
    "        raise ValueError(\"dimensions must agree\")\n",
    "    result = Vector(len(self))\n",
    "    for j in range(len(self)):\n",
    "        result[j] = self[j] - other[j] #set each component of resultant vector to difference of individual components of each vector \n",
    "    return result"
   ]
  },
  {
   "cell_type": "markdown",
   "metadata": {},
   "source": [
    "The time complexity of the sub method is linear, T(n) = O(n), since we iterate through len(self)."
   ]
  },
  {
   "cell_type": "markdown",
   "metadata": {},
   "source": [
    "__c) Implement the neg method for the Vector class,\tso\tthat the expression\t−v returns a new vector\tinstance whose coordinates are all\tthe\tnegated\tvalues of the respective coordinates of\tv.__\t"
   ]
  },
  {
   "cell_type": "markdown",
   "metadata": {},
   "source": [
    "To do this, we can simply iterate through the coordinates list of the given vector using a for loop, and set the corresponding component of the resultant vector equal to that value, multiplied by -1."
   ]
  },
  {
   "cell_type": "code",
   "execution_count": 3,
   "metadata": {},
   "outputs": [],
   "source": [
    "def __neg__(self):\n",
    "    v = Vector(len(self.coords))\n",
    "    for num in range(len(self.coords)):\n",
    "        v.coords[num] = self.coords[num] * -1\n",
    "    return v"
   ]
  },
  {
   "cell_type": "markdown",
   "metadata": {},
   "source": [
    "The time complexity of the neg method is linear, T(n) = O(n), since we iterate through len(self.coords)."
   ]
  },
  {
   "cell_type": "markdown",
   "metadata": {},
   "source": [
    "__d) Implement the mul method for the Vector class. Assume that the dimensions of the vectors to be multiplied are the same.__\n",
    "\n",
    "Note: There\ttwo\tkinds\tof\tmultiplication\trelated\tto\tvectors:\n",
    "\n",
    "1. Scalar product – multiplying a\tvector by a\tnumber\t(a\tscalar). For example, if v = <1, 2, 3>,\tthen v*5 would\tbe <5, 10, 15>.\n",
    "\n",
    "2. Dot\tproduct\t– multiplying\ta\tvector\tby\tanother\tvector.\tIn\tthis kind of multiplication\tif\tv = <$v_{1}$, $v_{2}$, …, $v_{n}$> and\tu = <$u_{1}$, $u_{2}$, …, $u_{n}$> then v*u would be $v_{1}$*$u_{1}$ + $v_{2}$*$u_{2}$ + … + $v_{n}$*$u_{n}$. For example, if v = <1, 2, 3> and\tu = <4, 5, 6>,\tthen v*u would be 32 (1 * 4 + 2 * 5 + 3 * 6 = 32)."
   ]
  },
  {
   "cell_type": "markdown",
   "metadata": {},
   "source": [
    "Since vectors can either be multiplied by a scalar (float or int) or by another vector, we must use the isinstance method to check which kind of multiplication we are performing. If we are performing scalar multiplication on a vector, then we can simply create a result vector and set its coordinates equal to the respective coordinates of the vector multiplied by the scalar, using a for loop. If we are multiplying 2 vectors, we must iterate through the coordinates of both of the given vectors and set the result vector's coordinates equal to their product. Then, we take the sum of the result vector's coordinates to obtain the final dot product."
   ]
  },
  {
   "cell_type": "code",
   "execution_count": 4,
   "metadata": {},
   "outputs": [],
   "source": [
    "def __mul__(self, other):\n",
    "    \n",
    "    if isinstance(other, int) or isinstance(other, float): #check if other is a scalar\n",
    "        v = Vector(len(self.coords))\n",
    "        for i in range(len(self.coords)):\n",
    "            v.coords[i] = self.coords[i] * other\n",
    "        return v\n",
    "    \n",
    "    elif isinstance(other, Vector):\n",
    "        v = Vector(len(self.coords))\n",
    "        for i in range(len(self.coords)):\n",
    "            v.coords[i] = self.coords[i] * other.coords[i]\n",
    "        return sum(v.coords)"
   ]
  },
  {
   "cell_type": "markdown",
   "metadata": {},
   "source": [
    "The time complexity of the mul method is linear, T(n) = O(n), since we iterate through len(self.coords)."
   ]
  },
  {
   "cell_type": "markdown",
   "metadata": {},
   "source": [
    "Putting these methods all together, we have the completed Vector class shown below along with some tester code."
   ]
  },
  {
   "cell_type": "code",
   "execution_count": 5,
   "metadata": {},
   "outputs": [
    {
     "name": "stdout",
     "output_type": "stream",
     "text": [
      "v1 = <0, 10, 0, 0, 10>\n",
      "v2 = <2, 4, 6, 8, 10>\n",
      "u1 = <2, 14, 6, 8, 20>\n",
      "u2 = <-2, -4, -6, -8, -10>\n",
      "u3 = <6, 12, 18, 24, 30>\n",
      "u4 = 140\n"
     ]
    }
   ],
   "source": [
    "class Vector:\n",
    "    \n",
    "    #def __init__(self, d):\n",
    "        #self.coords = [0] * d\n",
    "    \n",
    "    def __init__(self, d):\n",
    "        if isinstance(d,int): \n",
    "            self.coords = [0] * d #if int, initialize a list of d zeros\n",
    "        elif isinstance(d, list):\n",
    "            self.coords = d #if list, d represents the coordinates, themselves\n",
    "            \n",
    "    def __len__(self):\n",
    "        return len(self.coords)\n",
    "    \n",
    "    def __getitem__(self, j):\n",
    "        return self.coords[j]\n",
    "    \n",
    "    def __setitem__(self, j, val):\n",
    "        self.coords[j] = val\n",
    "        \n",
    "    def __add__(self, other):\n",
    "        if (len(self) != len(other)):\n",
    "            raise ValueError(\"dimensions must agree\")\n",
    "        result = Vector(len(self))\n",
    "        for j in range(len(self)):\n",
    "            result[j] = self[j] + other[j]\n",
    "        return result\n",
    "    \n",
    "    def __eq__(self, other):\n",
    "        return self.coords == other.coords\n",
    "    \n",
    "    def __ne__(self, other):\n",
    "        return not (self == other)\n",
    "    \n",
    "    def __str__(self):\n",
    "        return '<'+ str(self.coords)[1:-1] + '>'\n",
    "    \n",
    "    def __repr__(self):\n",
    "        return str(self)\n",
    "    \n",
    "    def __sub__(self, other):\n",
    "        if (len(self) != len(other)): #different dimensions, can't subtract\n",
    "            raise ValueError(\"dimensions must agree\")\n",
    "        result = Vector(len(self))\n",
    "        for j in range(len(self)):\n",
    "            result[j] = self[j] - other[j] #set each component of resultant vector to difference of individual components of each vector \n",
    "        return result\n",
    "\n",
    "    def __neg__(self):\n",
    "        v = Vector(len(self.coords))\n",
    "        for num in range(len(self.coords)):\n",
    "            v.coords[num] = self.coords[num] * -1\n",
    "        return v\n",
    "    \n",
    "    def __mul__(self, other):\n",
    "        if isinstance(other, int) or isinstance(other, float): #check if other is a scalar\n",
    "            v = Vector(len(self.coords))\n",
    "            for i in range(len(self.coords)):\n",
    "                v.coords[i] = self.coords[i] * other\n",
    "            return v\n",
    "\n",
    "        elif isinstance(other, Vector):\n",
    "            v = Vector(len(self.coords))\n",
    "            for i in range(len(self.coords)):\n",
    "                v.coords[i] = self.coords[i] * other.coords[i]\n",
    "            return sum(v.coords)\n",
    "\n",
    "# tester code\n",
    "v1 = Vector(5)\n",
    "v1[1] = 10\n",
    "v1[-1] = 10\n",
    "print(\"v1 =\", v1)\n",
    "# <0, 10, 0, 0, 10>\n",
    "\n",
    "v2 = Vector([2, 4, 6, 8, 10])\n",
    "print(\"v2 =\", v2)\n",
    "# <2, 4, 6, 8, 10>\n",
    "\n",
    "u1 = v1 + v2\n",
    "print(\"u1 =\", u1)\n",
    "# <2, 14, 6, 8, 20>\n",
    "\n",
    "u2 = -v2\n",
    "print(\"u2 =\", u2)\n",
    "# <-2, -4, -6, -8, -10>\n",
    "\n",
    "u3 = v2 * 3\n",
    "print(\"u3 =\", u3)\n",
    "# <6, 12, 18, 24, 30>\n",
    "\n",
    "u4 = v1 * v2\n",
    "print(\"u4 =\", u4)\n",
    "#140"
   ]
  }
 ],
 "metadata": {
  "kernelspec": {
   "display_name": "Python 3",
   "language": "python",
   "name": "python3"
  },
  "language_info": {
   "codemirror_mode": {
    "name": "ipython",
    "version": 3
   },
   "file_extension": ".py",
   "mimetype": "text/x-python",
   "name": "python",
   "nbconvert_exporter": "python",
   "pygments_lexer": "ipython3",
   "version": "3.7.4"
  }
 },
 "nbformat": 4,
 "nbformat_minor": 2
}
