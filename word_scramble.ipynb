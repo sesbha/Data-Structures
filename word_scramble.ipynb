{
 "cells": [
  {
   "cell_type": "markdown",
   "metadata": {},
   "source": [
    "### Unscramble the Word Game"
   ]
  },
  {
   "cell_type": "markdown",
   "metadata": {},
   "source": [
    "__Problem: Write a guessing game that takes a word, scrambles it, prints the letters to the user, and allows them three chances to find the unscrambled word.__ \n",
    "\n",
    "First implement the functions described below:\n",
    "\n",
    "__1. def create_permutation(n)__ - This function is given a positive integer n, and returns a list containing a random\n",
    "permutation of the numbers: 0, 1, 2, … , (n-1). For example, one call to create_permutation(6) could return the list: [3, 2, 5, 4, 0, 1]. Another call to create_permutation(6) could return the list: [2, 0, 3, 1, 5, 4]. You may only use the randint function from the random module. Specifically, you are not allowed to use the shuffle function.\n",
    "\n",
    "__2. def scramble_word(word)__ - This function is given a string word, and returns a scrambled version of word, that is a new string containing a random reordering of the letters of word. For example, one call to scramble_word(\"pokemon\") could return \"okonmpe\". Another call to scramble_word(\"pokemon\") could return \"mpeoonk\". To determine the new order of the letters, call the function create_permutation. For example, for the word \"pokemon\", the scrambled word implied by the permutation\n",
    "[1, 4, 5, 2, 3, 0, 6] is \"omokepn\" (since, the first letter is the letter from index 1, the second letter is the letter from index 4, the third letter is the letter from index 5, and so on)."
   ]
  },
  {
   "cell_type": "markdown",
   "metadata": {},
   "source": [
    "To implement the first function, since we are not allowed to use random.shuffle(), we must create a list and append the n random integers. However, since the list must contain numbers 0,1,...,n-1 without repeating numbers, we must use a while loop and check for whether the random integer to be appended is already included in the list or if it needs to be added. "
   ]
  },
  {
   "cell_type": "code",
   "execution_count": 1,
   "metadata": {},
   "outputs": [],
   "source": [
    "import random\n",
    "def create_permutation(n):\n",
    "    rand_lst = [] \n",
    "    while len(rand_lst) < n:\n",
    "        i = random.randint(0, n - 1)\n",
    "        if i not in rand_lst: #avoid duplicates\n",
    "            rand_lst.append(i)\n",
    "    return rand_lst"
   ]
  },
  {
   "cell_type": "markdown",
   "metadata": {},
   "source": [
    "In order to implement scramble_word(word), we must use create_permutation(n) to determine the ordering of the letters in the scrambled word and assign the list returned by the function to a variable (perm_lst). Then we can initialize an empty list to represent the list of scrambled letters (scramble_lst). Iterating through the numbers in perm_lst, we can take each number to be the index value and obtain the corresponding letter of the word, which we can append to scramble_lst. Then we can return a scrambled word in string format by using the join method. Note that instead of using scramble_lst, we could have initialized an empty string and added each letter of the word using +=, however string concatentation produces a new string each time it is performed, which would not be optimal in terms of time complexity. "
   ]
  },
  {
   "cell_type": "code",
   "execution_count": 2,
   "metadata": {},
   "outputs": [],
   "source": [
    "def scramble_word(word):\n",
    "    perm_lst = create_permutation(len(word))\n",
    "    scramble_lst = []\n",
    "    for i in perm_lst:\n",
    "        scramble_lst.append(word[i])\n",
    "    return ''.join(scramble_lst)"
   ]
  },
  {
   "cell_type": "markdown",
   "metadata": {},
   "source": [
    "Putting the methods together, we can write the code for the word game. We can use scramble_word to scramble the word. Then, we can iterate through a for loop to give the user 3 tries to guess the word."
   ]
  },
  {
   "cell_type": "code",
   "execution_count": 3,
   "metadata": {},
   "outputs": [
    {
     "name": "stdout",
     "output_type": "stream",
     "text": [
      "Unscramble the word: nompkoe\n",
      "Try #1: pokewfnrwj\n",
      "Wrong!\n",
      "Try #2: pokenom\n",
      "Wrong!\n",
      "Try #3: pokemon\n",
      "Yay, you got it!\n"
     ]
    }
   ],
   "source": [
    "import random\n",
    "\n",
    "def create_permutation(n):\n",
    "    rand_lst = [] \n",
    "    while len(rand_lst) < n:\n",
    "        i = random.randint(0, n - 1)\n",
    "        if i not in rand_lst: #avoid duplicates\n",
    "            rand_lst.append(i)\n",
    "    return rand_lst\n",
    "\n",
    "def scramble_word(word):\n",
    "    perm_lst = create_permutation(len(word))\n",
    "    scramble_lst = []\n",
    "    for i in perm_lst:\n",
    "        scramble_lst.append(word[i])\n",
    "    return ''.join(scramble_lst)\n",
    "\n",
    "# game test code\n",
    "word = scramble_word(\"pokemon\")\n",
    "print(\"Unscramble the word:\", word)\n",
    "for i in range(1, 4):\n",
    "    print(\"Try #\", i, \":\", sep = '', end = \" \")\n",
    "    attempt = input()\n",
    "    if attempt == \"pokemon\":\n",
    "        print(\"Yay, you got it!\")\n",
    "        break\n",
    "    else:\n",
    "        if i != 3:\n",
    "            print(\"Wrong!\")\n",
    "        else:\n",
    "            print(\"Sorry, maybe next time!\")"
   ]
  }
 ],
 "metadata": {
  "kernelspec": {
   "display_name": "Python 3",
   "language": "python",
   "name": "python3"
  },
  "language_info": {
   "codemirror_mode": {
    "name": "ipython",
    "version": 3
   },
   "file_extension": ".py",
   "mimetype": "text/x-python",
   "name": "python",
   "nbconvert_exporter": "python",
   "pygments_lexer": "ipython3",
   "version": "3.8.5"
  }
 },
 "nbformat": 4,
 "nbformat_minor": 2
}
