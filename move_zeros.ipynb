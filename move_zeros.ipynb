{
 "cells": [
  {
   "cell_type": "markdown",
   "metadata": {},
   "source": [
    "## Move Zeros to the End of a List"
   ]
  },
  {
   "cell_type": "markdown",
   "metadata": {},
   "source": [
    "__Given a sorted list of positive integers with zeros mixed in, write a function to move all zeros to the end of the list while maintaining the order of the non-zero numbers (in-place).__\n",
    "\n",
    "e.g. Given the list [0, 1, 0, 3, 13, 0], the function will modify the list to become [1, 3, 13, 0, 0, 0]."
   ]
  },
  {
   "cell_type": "markdown",
   "metadata": {},
   "source": [
    "We can solve this problem using two pointers, __left__ and __right__, where __left__ begins at the first index (index 0) and right begins at the second index (index 1). Using a while loop, we can perform a check to see if the element at the left index is 0; if this is true and the right index is a non-zero element, we can perform a swap (otherwise, we can increment the right pointer). If the element at the left index is non-zero, we can simply increment the left pointer. Lastly, we can return the list, __nums__. \n",
    "\n",
    "The function runs in $O(n)$ since we essentially iterate through the entire list using the pointers."
   ]
  },
  {
   "cell_type": "code",
   "execution_count": 1,
   "metadata": {},
   "outputs": [
    {
     "name": "stdout",
     "output_type": "stream",
     "text": [
      "[1, 3, 13, 0, 0, 0]\n",
      "[1, 3, 13, 5, 0, 0, 0]\n"
     ]
    }
   ],
   "source": [
    "def move_zeros(nums):\n",
    "    left = 0\n",
    "    right = 1\n",
    "    while right < len(nums):\n",
    "        if nums[left] == 0:\n",
    "            if nums[right] != 0:\n",
    "                nums[left], nums[right] = nums[right], nums[left]\n",
    "            else:\n",
    "                right += 1\n",
    "        else:\n",
    "            left += 1\n",
    "\n",
    "    return nums\n",
    "\n",
    "# TEST CODE\n",
    "\n",
    "# example 1\n",
    "lst1 = [0, 1, 0, 3, 13, 0]\n",
    "move_zeros(lst1)\n",
    "print(lst1)\n",
    "\n",
    "# example 2\n",
    "lst2 = [0, 1, 0, 3, 13, 0, 5]\n",
    "move_zeros(lst2)\n",
    "print(lst2)"
   ]
  }
 ],
 "metadata": {
  "kernelspec": {
   "display_name": "Python 3",
   "language": "python",
   "name": "python3"
  },
  "language_info": {
   "codemirror_mode": {
    "name": "ipython",
    "version": 3
   },
   "file_extension": ".py",
   "mimetype": "text/x-python",
   "name": "python",
   "nbconvert_exporter": "python",
   "pygments_lexer": "ipython3",
   "version": "3.8.5"
  }
 },
 "nbformat": 4,
 "nbformat_minor": 4
}
