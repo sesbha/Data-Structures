{
 "cells": [
  {
   "cell_type": "markdown",
   "metadata": {},
   "source": [
    "## Reverse a List"
   ]
  },
  {
   "cell_type": "markdown",
   "metadata": {},
   "source": [
    "__Given a list of values (int, float, str, … ), write a function def reverse_lst(lst) that reverses its order in-place (without creating a new list).__"
   ]
  },
  {
   "cell_type": "markdown",
   "metadata": {},
   "source": [
    "To reverse a list in-place, we can perform swaps, working from the outermost elements to the innermost elements. In other words, we can swap the first element with the last element, the second element with the second-to-last element, etc. until we have reached the middle of the list. This way, we only iterate through half the list, or __len(lst) // 2__ so our function runs in $O(n)$. Since we know the first element of a list has index 0 and the last element has index -1, and similarly the second element of a list has index 1 and the second-to-last element has index -2, we can generalize this to swap values at index $i$ with those at index $-i-1$."
   ]
  },
  {
   "cell_type": "code",
   "execution_count": 1,
   "metadata": {},
   "outputs": [
    {
     "name": "stdout",
     "output_type": "stream",
     "text": [
      "[5, 4, 3, 2, 1]\n",
      "['pear', 'banana', 'orange', 'apple']\n"
     ]
    }
   ],
   "source": [
    "def reverse_list(lst):\n",
    "    for i in range(len(lst) // 2):\n",
    "        lst[i], lst[-i - 1] = lst[-i - 1], lst[i]\n",
    "\n",
    "# TEST CODE\n",
    "# example 1\n",
    "lst1 = [1, 2, 3, 4, 5]\n",
    "reverse_list(lst1) \n",
    "print(lst1)\n",
    "\n",
    "# example 2\n",
    "lst2 = [\"apple\", \"orange\", \"banana\", \"pear\"]\n",
    "reverse_list(lst2)\n",
    "print(lst2)"
   ]
  }
 ],
 "metadata": {
  "kernelspec": {
   "display_name": "Python 3",
   "language": "python",
   "name": "python3"
  },
  "language_info": {
   "codemirror_mode": {
    "name": "ipython",
    "version": 3
   },
   "file_extension": ".py",
   "mimetype": "text/x-python",
   "name": "python",
   "nbconvert_exporter": "python",
   "pygments_lexer": "ipython3",
   "version": "3.8.5"
  }
 },
 "nbformat": 4,
 "nbformat_minor": 4
}
